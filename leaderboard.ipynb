{
  "cells": [
    {
      "cell_type": "markdown",
      "metadata": {},
      "source": [
        "# \ud83c\udfc6 LLM Leaderboard\n",
        "\n",
        "This notebook ranks prompt/model pairs based on average evaluation scores across clarity, correctness, and helpfulness."
      ]
    },
    {
      "cell_type": "code",
      "execution_count": null,
      "metadata": {},
      "outputs": [],
      "source": [
        "import pandas as pd\n\n",
        "# Load evaluated results\n",
        "df = pd.read_csv('../evaluation_outputs/evaluated_outputs.csv')\n",
        "df['avg_score'] = df[['clarity', 'correctness', 'helpfulness']].mean(axis=1)\n",
        "leaderboard = df.groupby(['prompt', 'model'])['avg_score'].mean().reset_index()\n",
        "leaderboard = leaderboard.sort_values(by='avg_score', ascending=False)\n",
        "leaderboard"
      ]
    }
  ],
  "metadata": {
    "kernelspec": {
      "display_name": "Python 3",
      "language": "python",
      "name": "python3"
    },
    "language_info": {
      "name": "python",
      "version": "3.8"
    }
  },
  "nbformat": 4,
  "nbformat_minor": 2
}