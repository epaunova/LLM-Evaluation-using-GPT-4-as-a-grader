{
  "cells": [
    {
      "cell_type": "markdown",
      "metadata": {},
      "source": [
        "# \ud83e\udd16 Prompt Evaluation with GPT-4\n",
        "\n",
        "This notebook evaluates prompt responses using GPT-4 as a grader. Each response is assessed for:\n",
        "- **Clarity** (0\u20135)\n",
        "- **Correctness** (0\u20135)\n",
        "- **Helpfulness** (0\u20135)\n",
        "\n",
        "Ideal for testing prompt variations or fine-tuned model outputs."
      ]
    },
    {
      "cell_type": "code",
      "execution_count": null,
      "metadata": {},
      "outputs": [],
      "source": [
        "# Example evaluation setup using OpenAI\n",
        "import openai\n",
        "openai.api_key = 'your-api-key-here'\n\n",
        "def evaluate_with_gpt4(prompt_response):\n",
        "    grading_prompt = f\"\"\"\n",
        "You are a strict grader. Given the following model response, rate it from 0 to 5 in:\n",
        "- Clarity\n",
        "- Correctness\n",
        "- Helpfulness\n\n",
        "Response: {prompt_response}\n\n",
        "Return format:\n",
        "{'clarity': int, 'correctness': int, 'helpfulness': int, 'comments': str}\n",
        "\"\"\"\n",
        "\n",
        "    completion = openai.ChatCompletion.create(\n",
        "        model=\"gpt-4\",\n",
        "        messages=[\n",
        "            {\"role\": \"system\", \"content\": \"You evaluate LLM responses.\"},\n",
        "            {\"role\": \"user\", \"content\": grading_prompt}\n",
        "        ]\n",
        "    )\n",
        "    return completion['choices'][0]['message']['content']\n"
      ]
    },
    {
      "cell_type": "code",
      "execution_count": null,
      "metadata": {},
      "outputs": [],
      "source": [
        "# Example use\n",
        "sample_response = \"The capital of France is Berlin.\"\n",
        "evaluation_result = evaluate_with_gpt4(sample_response)\n",
        "print(evaluation_result)"
      ]
    }
  ],
  "metadata": {
    "kernelspec": {
      "display_name": "Python 3",
      "language": "python",
      "name": "python3"
    },
    "language_info": {
      "name": "python",
      "version": "3.8"
    }
  },
  "nbformat": 4,
  "nbformat_minor": 2
}